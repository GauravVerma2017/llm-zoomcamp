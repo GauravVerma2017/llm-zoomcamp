{
 "cells": [
  {
   "cell_type": "code",
   "execution_count": 1,
   "id": "7b2ea1e0-c430-46b4-b15e-8e4e1345690a",
   "metadata": {
    "execution": {
     "iopub.execute_input": "2024-06-30T10:35:02.309956Z",
     "iopub.status.busy": "2024-06-30T10:35:02.309632Z",
     "iopub.status.idle": "2024-06-30T10:35:02.953315Z",
     "shell.execute_reply": "2024-06-30T10:35:02.952126Z",
     "shell.execute_reply.started": "2024-06-30T10:35:02.309916Z"
    },
    "tags": []
   },
   "outputs": [
    {
     "name": "stdout",
     "output_type": "stream",
     "text": [
      "Filesystem      Size  Used Avail Use% Mounted on\n",
      "overlay         100G   36G   65G  36% /\n",
      "tmpfs            64M     0   64M   0% /dev\n",
      "tmpfs           7.7G     0  7.7G   0% /sys/fs/cgroup\n",
      "/dev/nvme0n1p1  100G   36G   65G  36% /run\n",
      "tmpfs            14G     0   14G   0% /dev/shm\n",
      "/dev/nvme2n1    2.0G  136M  1.8G   8% /home/jovyan\n",
      "tmpfs            14G  120K   14G   1% /home/jovyan/.saturn\n",
      "tmpfs            14G   12K   14G   1% /run/secrets/kubernetes.io/serviceaccount\n",
      "tmpfs           7.7G   12K  7.7G   1% /proc/driver/nvidia\n",
      "tmpfs           7.7G  4.7M  7.7G   1% /run/nvidia-persistenced/socket\n",
      "tmpfs           7.7G     0  7.7G   0% /proc/acpi\n",
      "tmpfs           7.7G     0  7.7G   0% /sys/firmware\n"
     ]
    }
   ],
   "source": [
    "!df -h"
   ]
  },
  {
   "cell_type": "code",
   "execution_count": 2,
   "id": "3f5952c0-f966-4fcd-b84f-7c8d75980409",
   "metadata": {
    "execution": {
     "iopub.execute_input": "2024-06-30T10:35:02.955377Z",
     "iopub.status.busy": "2024-06-30T10:35:02.955033Z",
     "iopub.status.idle": "2024-06-30T10:35:02.959603Z",
     "shell.execute_reply": "2024-06-30T10:35:02.958772Z",
     "shell.execute_reply.started": "2024-06-30T10:35:02.955350Z"
    },
    "tags": []
   },
   "outputs": [],
   "source": [
    "import os\n",
    "os.environ['HF_HOME'] = '/run/cache/'"
   ]
  },
  {
   "cell_type": "code",
   "execution_count": 3,
   "id": "506fab2a-a50c-42bd-a106-c83a9d2828ea",
   "metadata": {
    "execution": {
     "iopub.execute_input": "2024-06-30T10:35:02.961012Z",
     "iopub.status.busy": "2024-06-30T10:35:02.960677Z",
     "iopub.status.idle": "2024-06-30T10:35:04.286516Z",
     "shell.execute_reply": "2024-06-30T10:35:04.285751Z",
     "shell.execute_reply.started": "2024-06-30T10:35:02.960989Z"
    },
    "tags": []
   },
   "outputs": [
    {
     "name": "stdout",
     "output_type": "stream",
     "text": [
      "--2024-06-30 10:35:04--  https://raw.githubusercontent.com/alexeygrigorev/minsearch/main/minsearch.py\n",
      "Resolving raw.githubusercontent.com (raw.githubusercontent.com)... 185.199.111.133, 185.199.109.133, 185.199.110.133, ...\n",
      "Connecting to raw.githubusercontent.com (raw.githubusercontent.com)|185.199.111.133|:443... connected.\n",
      "HTTP request sent, awaiting response... 200 OK\n",
      "Length: 3832 (3.7K) [text/plain]\n",
      "Saving to: ‘minsearch.py’\n",
      "\n",
      "minsearch.py        100%[===================>]   3.74K  --.-KB/s    in 0s      \n",
      "\n",
      "2024-06-30 10:35:04 (59.3 MB/s) - ‘minsearch.py’ saved [3832/3832]\n",
      "\n"
     ]
    }
   ],
   "source": [
    "!rm -f minsearch.py\n",
    "!wget https://raw.githubusercontent.com/alexeygrigorev/minsearch/main/minsearch.py"
   ]
  },
  {
   "cell_type": "code",
   "execution_count": 4,
   "id": "3ac947de-effd-4b61-8792-a6d7a133f347",
   "metadata": {
    "execution": {
     "iopub.execute_input": "2024-06-30T10:35:04.288525Z",
     "iopub.status.busy": "2024-06-30T10:35:04.287979Z",
     "iopub.status.idle": "2024-06-30T10:35:07.979410Z",
     "shell.execute_reply": "2024-06-30T10:35:07.978629Z",
     "shell.execute_reply.started": "2024-06-30T10:35:04.288481Z"
    },
    "tags": []
   },
   "outputs": [
    {
     "data": {
      "text/plain": [
       "<minsearch.Index at 0x7f9f9459fc70>"
      ]
     },
     "execution_count": 4,
     "metadata": {},
     "output_type": "execute_result"
    }
   ],
   "source": [
    "import requests \n",
    "import minsearch\n",
    "\n",
    "docs_url = 'https://github.com/GauravVerma2017/llm-zoomcamp/blob/main/01-intro/documents.json?raw=1'\n",
    "docs_response = requests.get(docs_url)\n",
    "documents_raw = docs_response.json()\n",
    "\n",
    "documents = []\n",
    "\n",
    "for course in documents_raw:\n",
    "    course_name = course['course']\n",
    "\n",
    "    for doc in course['documents']:\n",
    "        doc['course'] = course_name\n",
    "        documents.append(doc)\n",
    "\n",
    "index = minsearch.Index(\n",
    "    text_fields=[\"question\", \"text\", \"section\"],\n",
    "    keyword_fields=[\"course\"]\n",
    ")\n",
    "\n",
    "index.fit(documents)"
   ]
  },
  {
   "cell_type": "code",
   "execution_count": 5,
   "id": "8f087272-b44d-4738-9ea2-175ec63a058b",
   "metadata": {
    "execution": {
     "iopub.execute_input": "2024-06-30T10:35:07.981083Z",
     "iopub.status.busy": "2024-06-30T10:35:07.980587Z",
     "iopub.status.idle": "2024-06-30T10:35:07.985738Z",
     "shell.execute_reply": "2024-06-30T10:35:07.984820Z",
     "shell.execute_reply.started": "2024-06-30T10:35:07.981060Z"
    },
    "tags": []
   },
   "outputs": [],
   "source": [
    "def search(query):\n",
    "    boost = {'question': 3.0, 'section': 0.5}\n",
    "\n",
    "    results = index.search(\n",
    "        query=query,\n",
    "        filter_dict={'course': 'data-engineering-zoomcamp'},\n",
    "        boost_dict=boost,\n",
    "        num_results=5\n",
    "    )\n",
    "\n",
    "    return results"
   ]
  },
  {
   "cell_type": "code",
   "execution_count": 6,
   "id": "fe8bff3e-b672-42be-866b-f2d9bb217106",
   "metadata": {
    "execution": {
     "iopub.execute_input": "2024-06-30T10:35:07.987030Z",
     "iopub.status.busy": "2024-06-30T10:35:07.986745Z",
     "iopub.status.idle": "2024-06-30T10:35:07.991613Z",
     "shell.execute_reply": "2024-06-30T10:35:07.990879Z",
     "shell.execute_reply.started": "2024-06-30T10:35:07.987008Z"
    },
    "tags": []
   },
   "outputs": [],
   "source": [
    "def rag(query):\n",
    "    search_results = search(query)\n",
    "    prompt = build_prompt(query, search_results)\n",
    "    answer = llm(prompt)\n",
    "    return answer"
   ]
  },
  {
   "cell_type": "code",
   "execution_count": 7,
   "id": "c98a9dd1-1cc5-4732-8c00-117cfaeeef19",
   "metadata": {
    "execution": {
     "iopub.execute_input": "2024-06-30T10:35:07.995303Z",
     "iopub.status.busy": "2024-06-30T10:35:07.994848Z",
     "iopub.status.idle": "2024-06-30T10:35:08.317900Z",
     "shell.execute_reply": "2024-06-30T10:35:08.317163Z",
     "shell.execute_reply.started": "2024-06-30T10:35:07.995265Z"
    },
    "tags": []
   },
   "outputs": [],
   "source": [
    "from huggingface_hub import login"
   ]
  },
  {
   "cell_type": "code",
   "execution_count": 8,
   "id": "ba6c59bf-fdb9-4710-892c-a30f97ad5755",
   "metadata": {
    "execution": {
     "iopub.execute_input": "2024-06-30T10:35:08.319221Z",
     "iopub.status.busy": "2024-06-30T10:35:08.318895Z",
     "iopub.status.idle": "2024-06-30T10:35:08.371726Z",
     "shell.execute_reply": "2024-06-30T10:35:08.370923Z",
     "shell.execute_reply.started": "2024-06-30T10:35:08.319198Z"
    },
    "tags": []
   },
   "outputs": [
    {
     "name": "stdout",
     "output_type": "stream",
     "text": [
      "Token will not been saved to git credential helper. Pass `add_to_git_credential=True` if you want to set the git credential as well.\n",
      "Token is valid (permission: fineGrained).\n",
      "Your token has been saved to /run/cache/token\n",
      "Login successful\n"
     ]
    }
   ],
   "source": [
    "login(token=os.environ['HF_TOKEN'])"
   ]
  },
  {
   "cell_type": "code",
   "execution_count": 9,
   "id": "da09eb9f-fd78-44c7-a0a3-e3fda4ab7bdb",
   "metadata": {
    "execution": {
     "iopub.execute_input": "2024-06-30T10:35:08.374550Z",
     "iopub.status.busy": "2024-06-30T10:35:08.374170Z",
     "iopub.status.idle": "2024-06-30T10:35:13.437057Z",
     "shell.execute_reply": "2024-06-30T10:35:13.436387Z",
     "shell.execute_reply.started": "2024-06-30T10:35:08.374526Z"
    },
    "tags": []
   },
   "outputs": [],
   "source": [
    "from transformers import AutoModelForCausalLM\n",
    "from transformers import AutoTokenizer"
   ]
  },
  {
   "cell_type": "code",
   "execution_count": 11,
   "id": "0f1f4d64-fa89-43d9-985e-f2120e239c4a",
   "metadata": {
    "execution": {
     "iopub.execute_input": "2024-06-30T10:36:12.368591Z",
     "iopub.status.busy": "2024-06-30T10:36:12.368145Z",
     "iopub.status.idle": "2024-06-30T10:40:00.727189Z",
     "shell.execute_reply": "2024-06-30T10:40:00.726478Z",
     "shell.execute_reply.started": "2024-06-30T10:36:12.368565Z"
    },
    "tags": []
   },
   "outputs": [
    {
     "data": {
      "application/vnd.jupyter.widget-view+json": {
       "model_id": "2d11e6153d9e47bb9a76cabdd352d8a2",
       "version_major": 2,
       "version_minor": 0
      },
      "text/plain": [
       "Downloading config.json:   0%|          | 0.00/571 [00:00<?, ?B/s]"
      ]
     },
     "metadata": {},
     "output_type": "display_data"
    },
    {
     "data": {
      "application/vnd.jupyter.widget-view+json": {
       "model_id": "58ca4236cbaa46ab91c30c23494eeeb7",
       "version_major": 2,
       "version_minor": 0
      },
      "text/plain": [
       "Downloading (…)fetensors.index.json:   0%|          | 0.00/25.1k [00:00<?, ?B/s]"
      ]
     },
     "metadata": {},
     "output_type": "display_data"
    },
    {
     "data": {
      "application/vnd.jupyter.widget-view+json": {
       "model_id": "0060f51ec5754d4280ed190472c469b7",
       "version_major": 2,
       "version_minor": 0
      },
      "text/plain": [
       "Downloading shards:   0%|          | 0/2 [00:00<?, ?it/s]"
      ]
     },
     "metadata": {},
     "output_type": "display_data"
    },
    {
     "data": {
      "application/vnd.jupyter.widget-view+json": {
       "model_id": "2d77f457ded64efb94f52d9857b199e8",
       "version_major": 2,
       "version_minor": 0
      },
      "text/plain": [
       "Downloading (…)of-00002.safetensors:   0%|          | 0.00/9.94G [00:00<?, ?B/s]"
      ]
     },
     "metadata": {},
     "output_type": "display_data"
    },
    {
     "data": {
      "application/vnd.jupyter.widget-view+json": {
       "model_id": "83c319afe1fa4cc3bfe85d25b6c7bbf4",
       "version_major": 2,
       "version_minor": 0
      },
      "text/plain": [
       "Downloading (…)of-00002.safetensors:   0%|          | 0.00/4.54G [00:00<?, ?B/s]"
      ]
     },
     "metadata": {},
     "output_type": "display_data"
    },
    {
     "data": {
      "application/vnd.jupyter.widget-view+json": {
       "model_id": "c2508fdbbecb421b8889c0173705998e",
       "version_major": 2,
       "version_minor": 0
      },
      "text/plain": [
       "Loading checkpoint shards:   0%|          | 0/2 [00:00<?, ?it/s]"
      ]
     },
     "metadata": {},
     "output_type": "display_data"
    },
    {
     "data": {
      "application/vnd.jupyter.widget-view+json": {
       "model_id": "5a2db7f4164442409ea6f1f0135f54f2",
       "version_major": 2,
       "version_minor": 0
      },
      "text/plain": [
       "Downloading generation_config.json:   0%|          | 0.00/116 [00:00<?, ?B/s]"
      ]
     },
     "metadata": {},
     "output_type": "display_data"
    },
    {
     "data": {
      "application/vnd.jupyter.widget-view+json": {
       "model_id": "a538e091d8f34feab5eceef2f3c6d116",
       "version_major": 2,
       "version_minor": 0
      },
      "text/plain": [
       "Downloading tokenizer_config.json:   0%|          | 0.00/967 [00:00<?, ?B/s]"
      ]
     },
     "metadata": {},
     "output_type": "display_data"
    },
    {
     "data": {
      "application/vnd.jupyter.widget-view+json": {
       "model_id": "383d111b32654223a80fbdbb6f45b3cf",
       "version_major": 2,
       "version_minor": 0
      },
      "text/plain": [
       "Downloading tokenizer.model:   0%|          | 0.00/493k [00:00<?, ?B/s]"
      ]
     },
     "metadata": {},
     "output_type": "display_data"
    },
    {
     "data": {
      "application/vnd.jupyter.widget-view+json": {
       "model_id": "ac4b9660fba64bc09c0d5418b31f5425",
       "version_major": 2,
       "version_minor": 0
      },
      "text/plain": [
       "Downloading tokenizer.json:   0%|          | 0.00/1.80M [00:00<?, ?B/s]"
      ]
     },
     "metadata": {},
     "output_type": "display_data"
    },
    {
     "data": {
      "application/vnd.jupyter.widget-view+json": {
       "model_id": "775d0a2aee374643a7c6562a5222e540",
       "version_major": 2,
       "version_minor": 0
      },
      "text/plain": [
       "Downloading (…)cial_tokens_map.json:   0%|          | 0.00/72.0 [00:00<?, ?B/s]"
      ]
     },
     "metadata": {},
     "output_type": "display_data"
    }
   ],
   "source": [
    "# this model requires user to accept user policy on hugging face and create a token\n",
    "\n",
    "model = AutoModelForCausalLM.from_pretrained(\n",
    "    \"mistralai/Mistral-7B-v0.1\", device_map=\"auto\", load_in_4bit=True\n",
    ")\n",
    "\n",
    "tokenizer = AutoTokenizer.from_pretrained(\"mistralai/Mistral-7B-v0.1\", padding_side=\"left\")"
   ]
  },
  {
   "cell_type": "code",
   "execution_count": null,
   "id": "27b459b1-79f8-4bcd-939a-07db69afe39d",
   "metadata": {},
   "outputs": [],
   "source": []
  },
  {
   "cell_type": "code",
   "execution_count": 14,
   "id": "4e0be11f-4e3a-4114-89db-0d31703a77c7",
   "metadata": {
    "execution": {
     "iopub.execute_input": "2024-06-30T10:42:36.225727Z",
     "iopub.status.busy": "2024-06-30T10:42:36.225312Z",
     "iopub.status.idle": "2024-06-30T10:42:36.231396Z",
     "shell.execute_reply": "2024-06-30T10:42:36.230566Z",
     "shell.execute_reply.started": "2024-06-30T10:42:36.225700Z"
    },
    "tags": []
   },
   "outputs": [],
   "source": [
    "def build_prompt(query, search_results):\n",
    "    prompt_template = \"\"\"\n",
    "You're a course teaching assistant. Answer the QUESTION based on the CONTEXT from the FAQ database.\n",
    "Use only the facts from the CONTEXT when answering the QUESTION.\n",
    "\n",
    "QUESTION: {question}\n",
    "\n",
    "CONTEXT: \n",
    "{context}\n",
    "\"\"\".strip()\n",
    "\n",
    "    context = \"\"\n",
    "    \n",
    "    for doc in search_results:\n",
    "        context = context + f\"section: {doc['section']}\\nquestion: {doc['question']}\\nanswer: {doc['text']}\\n\\n\"\n",
    "    \n",
    "    prompt = prompt_template.format(question=query, context=context).strip()\n",
    "    return prompt\n",
    "\n",
    "def llm(prompt):\n",
    "    model_inputs = tokenizer([prompt], return_tensors=\"pt\").to(\"cuda\")\n",
    "\n",
    "    generated_ids = model.generate(**model_inputs, max_length=700)\n",
    "    result = tokenizer.batch_decode(generated_ids, skip_special_tokens=True)[0]\n",
    "    return result"
   ]
  },
  {
   "cell_type": "code",
   "execution_count": 15,
   "id": "ca4ff7b9-6ae9-454b-a854-0ebf85b16ceb",
   "metadata": {
    "execution": {
     "iopub.execute_input": "2024-06-30T10:42:36.929281Z",
     "iopub.status.busy": "2024-06-30T10:42:36.928884Z",
     "iopub.status.idle": "2024-06-30T10:42:43.405938Z",
     "shell.execute_reply": "2024-06-30T10:42:43.405050Z",
     "shell.execute_reply.started": "2024-06-30T10:42:36.929253Z"
    },
    "tags": []
   },
   "outputs": [
    {
     "name": "stderr",
     "output_type": "stream",
     "text": [
      "Setting `pad_token_id` to `eos_token_id`:2 for open-end generation.\n"
     ]
    },
    {
     "data": {
      "text/plain": [
       "\"You're a course teaching assistant. Answer the QUESTION based on the CONTEXT from the FAQ database.\\nUse only the facts from the CONTEXT when answering the QUESTION.\\n\\nQUESTION: I just discovered the zoomcamp, can I still join it\\n\\nCONTEXT: \\nsection: General course-related questions\\nquestion: Course - Can I still join the course after the start date?\\nanswer: Yes, even if you don't register, you're still eligible to submit the homeworks.\\nBe aware, however, that there will be deadlines for turning in the final projects. So don't leave everything for the last minute.\\n\\nsection: General course-related questions\\nquestion: Course - Can I follow the course after it finishes?\\nanswer: Yes, we will keep all the materials after the course finishes, so you can follow the course at your own pace after it finishes.\\nYou can also continue looking at the homeworks and continue preparing for the next cohort. I guess you can also start working on your final capstone project.\\n\\nsection: Module 6: streaming with kafka\\nquestion: data-engineering-zoomcamp/week_6_stream_processing/python/resources/rides.csv is missing\\nanswer: Copy the file found in the Java example: data-engineering-zoomcamp/week_6_stream_processing/java/kafka_examples/src/main/resources/rides.csv\\n\\nsection: Module 2: Workflow Orchestration\\nquestion: Git - How do I include the files in the Mage repo (including exercise files and homework) in a personal copy of the Data Engineering Zoomcamp repo?\\nanswer: Assuming you downloaded the Mage repo in the week 2 folder of the Data Engineering Zoomcamp, you might want to include your mage copy, demo pipelines and homework within your personal copy of the Data Engineering Zoomcamp repo. This will not work by default, because GitHub sees them as two separate repositories, and one does not track the other. To add the Mage files to your main DE Zoomcamp repo, you will need to:\\nMove the contents of the .gitignore file in your main .gitignore.\\nUse the terminal to cd into the Mage folder and:\\nrun “git remote remove origin” to de-couple the Mage repo,\\nrun “rm -rf .git” to delete local git files,\\nrun “git add .” to add the current folder as changes to stage, commit and push.\\n\\nsection: Module 4: analytics engineering with dbt\\nquestion: Dbt+git - It appears that I can't edit the files because I'm in read-only mode. Does anyone know how I can change that?\\nanswer: Create a new branch for development, then you can merge it to the main branch\\nCreate a new branch and switch to this branch. It allows you to make changes. Then you can commit and push the changes to the “main” branch.\\n\\nsection: Module 5: Data Warehousing\\nquestion: Data Warehousing - How to create a new table in Snowflake\\nanswer: You can create a new table in Snowflake by using\""
      ]
     },
     "execution_count": 15,
     "metadata": {},
     "output_type": "execute_result"
    }
   ],
   "source": [
    "rag(\"I just discovered the zoomcamp, can I still join it\")"
   ]
  },
  {
   "cell_type": "code",
   "execution_count": 16,
   "id": "2eab0e43-ed8b-4185-a312-1959efcc7ed7",
   "metadata": {
    "execution": {
     "iopub.execute_input": "2024-06-30T10:42:56.745840Z",
     "iopub.status.busy": "2024-06-30T10:42:56.745173Z",
     "iopub.status.idle": "2024-06-30T10:42:56.749960Z",
     "shell.execute_reply": "2024-06-30T10:42:56.748982Z",
     "shell.execute_reply.started": "2024-06-30T10:42:56.745813Z"
    }
   },
   "outputs": [
    {
     "name": "stdout",
     "output_type": "stream",
     "text": [
      "You're a course teaching assistant. Answer the QUESTION based on the CONTEXT from the FAQ database.\n",
      "Use only the facts from the CONTEXT when answering the QUESTION.\n",
      "\n",
      "QUESTION: I just discovered the zoomcamp, can I still join it\n",
      "\n",
      "CONTEXT: \n",
      "section: General course-related questions\n",
      "question: Course - Can I still join the course after the start date?\n",
      "answer: Yes, even if you don't register, you're still eligible to submit the homeworks.\n",
      "Be aware, however, that there will be deadlines for turning in the final projects. So don't leave everything for the last minute.\n",
      "\n",
      "section: General course-related questions\n",
      "question: Course - Can I follow the course after it finishes?\n",
      "answer: Yes, we will keep all the materials after the course finishes, so you can follow the course at your own pace after it finishes.\n",
      "You can also continue looking at the homeworks and continue preparing for the next cohort. I guess you can also start working on your final capstone project.\n",
      "\n",
      "section: Module 6: streaming with kafka\n",
      "question: data-engineering-zoomcamp/week_6_stream_processing/python/resources/rides.csv is missing\n",
      "answer: Copy the file found in the Java example: data-engineering-zoomcamp/week_6_stream_processing/java/kafka_examples/src/main/resources/rides.csv\n",
      "\n",
      "section: Module 2: Workflow Orchestration\n",
      "question: Git - How do I include the files in the Mage repo (including exercise files and homework) in a personal copy of the Data Engineering Zoomcamp repo?\n",
      "answer: Assuming you downloaded the Mage repo in the week 2 folder of the Data Engineering Zoomcamp, you might want to include your mage copy, demo pipelines and homework within your personal copy of the Data Engineering Zoomcamp repo. This will not work by default, because GitHub sees them as two separate repositories, and one does not track the other. To add the Mage files to your main DE Zoomcamp repo, you will need to:\n",
      "Move the contents of the .gitignore file in your main .gitignore.\n",
      "Use the terminal to cd into the Mage folder and:\n",
      "run “git remote remove origin” to de-couple the Mage repo,\n",
      "run “rm -rf .git” to delete local git files,\n",
      "run “git add .” to add the current folder as changes to stage, commit and push.\n",
      "\n",
      "section: Module 4: analytics engineering with dbt\n",
      "question: Dbt+git - It appears that I can't edit the files because I'm in read-only mode. Does anyone know how I can change that?\n",
      "answer: Create a new branch for development, then you can merge it to the main branch\n",
      "Create a new branch and switch to this branch. It allows you to make changes. Then you can commit and push the changes to the “main” branch.\n",
      "\n",
      "section: Module 5: Data Warehousing\n",
      "question: Data Warehousing - How to create a new table in Snowflake\n",
      "answer: You can create a new table in Snowflake by using\n"
     ]
    }
   ],
   "source": [
    "print(_)"
   ]
  },
  {
   "cell_type": "code",
   "execution_count": null,
   "id": "13a5d252-fa8f-428e-95bb-c3133efb6f48",
   "metadata": {},
   "outputs": [],
   "source": []
  }
 ],
 "metadata": {
  "kernelspec": {
   "display_name": "saturn (Python 3)",
   "language": "python",
   "name": "python3"
  },
  "language_info": {
   "codemirror_mode": {
    "name": "ipython",
    "version": 3
   },
   "file_extension": ".py",
   "mimetype": "text/x-python",
   "name": "python",
   "nbconvert_exporter": "python",
   "pygments_lexer": "ipython3",
   "version": "3.9.18"
  }
 },
 "nbformat": 4,
 "nbformat_minor": 5
}
